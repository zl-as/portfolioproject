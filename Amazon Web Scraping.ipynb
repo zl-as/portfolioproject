{
 "cells": [
  {
   "cell_type": "code",
   "execution_count": 2,
   "id": "0448d9f0",
   "metadata": {},
   "outputs": [],
   "source": [
    "#import libraries\n",
    "\n",
    "from bs4 import BeautifulSoup\n",
    "import requests\n",
    "import smtplib\n",
    "import time\n",
    "import datetime"
   ]
  },
  {
   "cell_type": "code",
   "execution_count": 3,
   "id": "1a08b0d7",
   "metadata": {},
   "outputs": [
    {
     "name": "stdout",
     "output_type": "stream",
     "text": [
      "\n",
      "                 Never Underestimate Data Analyst T-Shirt\n",
      "                \n"
     ]
    }
   ],
   "source": [
    "# Connect to the website\n",
    "\n",
    "URL = 'https://www.amazon.ca/Never-Underestimate-Analyst-T-Shirt-White/dp/B07YMXYQ5L/ref=sr_1_7?crid=3DXRRUS3LQND3&keywords=data%2Banalyst%2Bt%2Bshirt&qid=1683337795&sprefix=data%2Banalyst%2Bt%2Bshirt%2Caps%2C120&sr=8-7&th=1&psc=1'\n",
    "headers ={\"User-Agent\":\"Mozilla/5.0 (Windows NT 10.0; Win64; x64; rv:109.0) Gecko/20100101 Firefox/112.0\", \"Accept-Encoding\":\"gzip, deflate\", \"Accept\":\"text/html,application/xhtml+xml,application/xml;q=0.9,*/*;q=0.8\", \"DNT\":\"1\",\"Connection\":\"close\", \"Upgrade-Insecure-Requests\":\"1\"}\n",
    "\n",
    "page = requests.get(URL, headers=headers)\n",
    "\n",
    "soup1 = BeautifulSoup(page.content, \"html.parser\")\n",
    "soup2 = BeautifulSoup(soup1.prettify(), \"html.parser\")\n",
    "title = soup2.find(id='productTitle').get_text()\n",
    "print(title)\n"
   ]
  },
  {
   "cell_type": "code",
   "execution_count": 4,
   "id": "ae22eee4",
   "metadata": {},
   "outputs": [
    {
     "data": {
      "text/plain": [
       "'Never Underestimate Data Analyst T-Shirt'"
      ]
     },
     "execution_count": 4,
     "metadata": {},
     "output_type": "execute_result"
    }
   ],
   "source": [
    "title.strip()\n"
   ]
  },
  {
   "cell_type": "code",
   "execution_count": 5,
   "id": "89133f6e",
   "metadata": {},
   "outputs": [
    {
     "name": "stdout",
     "output_type": "stream",
     "text": [
      "\n",
      "            Jade Roller & Gua Sha, Face Roller, Facial Beauty Roller Skin Care Tools, BAIMEI Rose Quartz Massager for Face, Eyes, Neck, Body Muscle Relaxing and Relieve Fine Lines and Wrinkles\n",
      "           \n",
      "\n",
      "             42,812 ratings\n",
      "            \n",
      "\n",
      "\n",
      "                          $17.56\n",
      "                         \n",
      "\n",
      "\n",
      "                           ($8.78 /  count)\n",
      "                          \n",
      "\n",
      "\n"
     ]
    }
   ],
   "source": [
    "# Connect to the website\n",
    "\n",
    "URL = 'https://www.amazon.ca/dp/B07WWC3T9Q/ref=cm_gf_aaqc_d_p0_e0_qd0_ewbAW3TXdZYYpNrgvnBE?th=1'\n",
    "headers ={\"User-Agent\":\"Mozilla/5.0 (Windows NT 10.0; Win64; x64; rv:109.0) Gecko/20100101 Firefox/112.0\", \"Accept-Encoding\":\"gzip, deflate\", \"Accept\":\"text/html,application/xhtml+xml,application/xml;q=0.9,*/*;q=0.8\", \"DNT\":\"1\",\"Connection\":\"close\", \"Upgrade-Insecure-Requests\":\"1\"}\n",
    "\n",
    "page = requests.get(URL, headers=headers)\n",
    "\n",
    "soup1 = BeautifulSoup(page.content, \"html.parser\")\n",
    "soup2 = BeautifulSoup(soup1.prettify(), \"html.parser\")\n",
    "title = soup2.find(id='productTitle').get_text()\n",
    "rating = soup2.find(id='acrCustomerReviewText').get_text()\n",
    "#price = soup2.find(id='taxInclusiveMessage').get_text()\n",
    "price = soup2.find(id='color_name_0_price').get_text()\n",
    "\n",
    "\n",
    "\n",
    "print(title)\n",
    "print(rating)\n",
    "print(price)"
   ]
  },
  {
   "cell_type": "code",
   "execution_count": 6,
   "id": "3d671311",
   "metadata": {},
   "outputs": [
    {
     "name": "stdout",
     "output_type": "stream",
     "text": [
      "Jade Roller & Gua Sha, Face Roller, Facial Beauty Roller Skin Care Tools, BAIMEI Rose Quartz Massager for Face, Eyes, Neck, Body Muscle Relaxing and Relieve Fine Lines and Wrinkles\n",
      "42,812 ratings\n",
      "17.56\n",
      "                         \n",
      "\n",
      "\n",
      "                           ($8.78 /  count)\n"
     ]
    }
   ],
   "source": [
    "price = price.strip()[1:]\n",
    "title = title.strip()\n",
    "rating = rating.strip()\n",
    "print(title)\n",
    "print(rating)\n",
    "print(price)"
   ]
  },
  {
   "cell_type": "code",
   "execution_count": 8,
   "id": "a9d8c624",
   "metadata": {},
   "outputs": [
    {
     "name": "stdout",
     "output_type": "stream",
     "text": [
      "2023-05-06\n"
     ]
    }
   ],
   "source": [
    "# Create a Timestamp for your output to track when data was collected\n",
    "\n",
    "import datetime\n",
    "today = datetime.date.today()\n",
    "print(today)"
   ]
  },
  {
   "cell_type": "code",
   "execution_count": 10,
   "id": "63e99ff7",
   "metadata": {},
   "outputs": [],
   "source": [
    "# Create CSV and write headers and data into the file\n",
    "\n",
    "import csv\n",
    "header = ['Title','Rating','Price','Date']\n",
    "data = [title,rating,price,today]\n",
    "\n",
    "with open ('AmazonWebScraping.csv','w',newline='',encoding ='UTF8') as f:\n",
    "     writer =csv.writer(f)\n",
    "     writer.writerow(header)\n",
    "     writer.writerow(data)\n"
   ]
  },
  {
   "cell_type": "code",
   "execution_count": 12,
   "id": "65025bbd",
   "metadata": {},
   "outputs": [
    {
     "name": "stdout",
     "output_type": "stream",
     "text": [
      "                                               Title          Rating  \\\n",
      "0  Jade Roller & Gua Sha, Face Roller, Facial Bea...  42,812 ratings   \n",
      "\n",
      "                                               Price        Date  \n",
      "0  17.56\\n                         \\n\\n\\n        ...  2023-05-06  \n"
     ]
    }
   ],
   "source": [
    "import pandas as pd\n",
    "df = pd.read_csv(r'C:\\Users\\LIF2L\\AmazonWebScraping.csv')\n",
    "print(df)"
   ]
  },
  {
   "cell_type": "code",
   "execution_count": null,
   "id": "53d42b92",
   "metadata": {},
   "outputs": [],
   "source": [
    "#Now we are appending data to the csv\n",
    "\n",
    "with open('AmazonWebScraping.csv', 'a+', newline='', encoding='UTF8') as f:\n",
    "    writer = csv.writer(f)\n",
    "    writer.writerow(data)"
   ]
  },
  {
   "cell_type": "code",
   "execution_count": 14,
   "id": "c81ef729",
   "metadata": {},
   "outputs": [],
   "source": [
    "#Combine all of the above code into one function\n",
    "\n",
    "\n",
    "def check_price():\n",
    "    URL = 'https://www.amazon.ca/dp/B07WWC3T9Q/ref=cm_gf_aaqc_d_p0_e0_qd0_ewbAW3TXdZYYpNrgvnBE?th=1'\n",
    "    headers ={\"User-Agent\":\"Mozilla/5.0 (Windows NT 10.0; Win64; x64; rv:109.0) Gecko/20100101 Firefox/112.0\", \"Accept-Encoding\":\"gzip, deflate\", \"Accept\":\"text/html,application/xhtml+xml,application/xml;q=0.9,*/*;q=0.8\", \"DNT\":\"1\",\"Connection\":\"close\", \"Upgrade-Insecure-Requests\":\"1\"}\n",
    "\n",
    "    page = requests.get(URL, headers=headers)\n",
    "\n",
    "    soup1 = BeautifulSoup(page.content, \"html.parser\")\n",
    "    soup2 = BeautifulSoup(soup1.prettify(), \"html.parser\")\n",
    "    title = soup2.find(id='productTitle').get_text()\n",
    "    rating = soup2.find(id='acrCustomerReviewText').get_text()\n",
    "    price = soup2.find(id='color_name_0_price').get_text()\n",
    "    price = price.strip()[1:]\n",
    "    title = title.strip()\n",
    "    rating = rating.strip()\n",
    "    import datetime\n",
    "    today = datetime.date.today()\n",
    "    \n",
    "    import csv\n",
    "    header = ['Title','Rating','Price','Date']\n",
    "    data = [title,rating,price,today]\n",
    "    \n",
    "    with open('AmazonWebScraping.csv', 'a+', newline='', encoding='UTF8') as f:\n",
    "        writer = csv.writer(f)\n",
    "        writer.writerow(data)\n",
    "    \n"
   ]
  },
  {
   "cell_type": "code",
   "execution_count": null,
   "id": "4a7a0e9c",
   "metadata": {},
   "outputs": [],
   "source": [
    "# Runs check_price after a set time and inputs data into your CSV\n",
    "# check every single day\n",
    "while(True):\n",
    "    check_price()\n",
    "    time.sleep(86400)\n",
    "\n"
   ]
  },
  {
   "cell_type": "code",
   "execution_count": 16,
   "id": "713d817e",
   "metadata": {},
   "outputs": [
    {
     "name": "stdout",
     "output_type": "stream",
     "text": [
      "                                                Title          Rating  \\\n",
      "0   Jade Roller & Gua Sha, Face Roller, Facial Bea...  42,812 ratings   \n",
      "1   Jade Roller & Gua Sha, Face Roller, Facial Bea...  42,812 ratings   \n",
      "2   Jade Roller & Gua Sha, Face Roller, Facial Bea...  42,812 ratings   \n",
      "3   Jade Roller & Gua Sha, Face Roller, Facial Bea...  42,812 ratings   \n",
      "4   Jade Roller & Gua Sha, Face Roller, Facial Bea...  42,812 ratings   \n",
      "5   Jade Roller & Gua Sha, Face Roller, Facial Bea...  42,812 ratings   \n",
      "6   Jade Roller & Gua Sha, Face Roller, Facial Bea...  42,812 ratings   \n",
      "7   Jade Roller & Gua Sha, Face Roller, Facial Bea...  42,812 ratings   \n",
      "8   Jade Roller & Gua Sha, Face Roller, Facial Bea...  42,812 ratings   \n",
      "9   Jade Roller & Gua Sha, Face Roller, Facial Bea...  42,812 ratings   \n",
      "10  Jade Roller & Gua Sha, Face Roller, Facial Bea...  42,812 ratings   \n",
      "\n",
      "                                                Price        Date  \n",
      "0   17.56\\n                         \\n\\n\\n        ...  2023-05-06  \n",
      "1   17.56\\n                         \\n\\n\\n        ...  2023-05-06  \n",
      "2   17.56\\n                         \\n\\n\\n        ...  2023-05-06  \n",
      "3   17.56\\n                         \\n\\n\\n        ...  2023-05-06  \n",
      "4   17.56\\n                         \\n\\n\\n        ...  2023-05-06  \n",
      "5   17.56\\n                         \\n\\n\\n        ...  2023-05-06  \n",
      "6   17.56\\n                         \\n\\n\\n        ...  2023-05-06  \n",
      "7   17.56\\n                         \\n\\n\\n        ...  2023-05-06  \n",
      "8   17.56\\n                         \\n\\n\\n        ...  2023-05-06  \n",
      "9   17.56\\n                         \\n\\n\\n        ...  2023-05-06  \n",
      "10  17.56\\n                         \\n\\n\\n        ...  2023-05-06  \n"
     ]
    }
   ],
   "source": [
    "import pandas as pd\n",
    "df = pd.read_csv(r'C:\\Users\\LIF2L\\AmazonWebScraping.csv')\n",
    "print(df)"
   ]
  },
  {
   "cell_type": "code",
   "execution_count": null,
   "id": "82d3fa20",
   "metadata": {},
   "outputs": [],
   "source": [
    "# If you want to try sending yourself an email (just for fun) when a price hits below a certain level you can try it\n",
    "# out with this script\n",
    "\n",
    "def send_mail():\n",
    "    server = smtplib.SMTP_SSL('smtp.gmail.com',465)\n",
    "    server.ehlo()\n",
    "    #server.starttls()\n",
    "    server.ehlo()\n",
    "    server.login('lizzell0129@gmail.com','xxxxxxxxx')\n",
    "    \n",
    "    subject = \"The Item is on sale\"\n",
    "    body = \"This is the moment we have been waiting for.Link here: 'https://www.amazon.ca/dp/B07WWC3T9Q/ref=cm_gf_aaqc_d_p0_e0_qd0_ewbAW3TXdZYYpNrgvnBE?th=1'\n",
    "    msg = f\"Subject: {subject}\\n\\n{body}\"\n",
    "    \n",
    "    server.sendmail(\n",
    "        'lizzell0129@gmail.com',\n",
    "        msg\n",
    "     \n",
    "    )"
   ]
  }
 ],
 "metadata": {
  "kernelspec": {
   "display_name": "Python 3 (ipykernel)",
   "language": "python",
   "name": "python3"
  },
  "language_info": {
   "codemirror_mode": {
    "name": "ipython",
    "version": 3
   },
   "file_extension": ".py",
   "mimetype": "text/x-python",
   "name": "python",
   "nbconvert_exporter": "python",
   "pygments_lexer": "ipython3",
   "version": "3.9.13"
  }
 },
 "nbformat": 4,
 "nbformat_minor": 5
}
